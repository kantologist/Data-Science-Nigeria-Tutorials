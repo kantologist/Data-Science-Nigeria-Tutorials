{
 "cells": [
  {
   "cell_type": "markdown",
   "metadata": {},
   "source": [
    "# Exploring Data With Pandas"
   ]
  },
  {
   "cell_type": "code",
   "execution_count": 1,
   "metadata": {
    "collapsed": true
   },
   "outputs": [],
   "source": [
    "import pandas as pd\n",
    "import numpy as np\n",
    "import matplotlib.pyplot as plt\n",
    "pd.set_option('max_columns', 50)\n",
    "%matplotlib inline"
   ]
  },
  {
   "cell_type": "markdown",
   "metadata": {},
   "source": [
    "## Series\n",
    "\n",
    "There are three ways to create a series."
   ]
  },
  {
   "cell_type": "code",
   "execution_count": 3,
   "metadata": {
    "collapsed": false
   },
   "outputs": [
    {
     "name": "stdout",
     "output_type": "stream",
     "text": [
      "0      food\n",
      "1         8\n",
      "2      july\n",
      "3         9\n",
      "4    [2, 3]\n",
      "5      data\n",
      "dtype: object\n"
     ]
    }
   ],
   "source": [
    "# first method: Involves passing a list without index to pd.\n",
    "a = pd.Series(['food', 8, 'july', 9.0, [2,3], 'data'])\n",
    "print a"
   ]
  },
  {
   "cell_type": "code",
   "execution_count": 5,
   "metadata": {
    "collapsed": false
   },
   "outputs": [
    {
     "name": "stdout",
     "output_type": "stream",
     "text": [
      "a      food\n",
      "b         8\n",
      "c      july\n",
      "d         9\n",
      "e    [2, 3]\n",
      "f      data\n",
      "dtype: object\n"
     ]
    }
   ],
   "source": [
    "# second method: Involves passing a list of data and a list on index\n",
    "data = pd.Series(['food', 8, 'july', 9.0, [2,3], 'data'], \n",
    "                index=['a','b','c', 'd', 'e', 'f'])\n",
    "print data"
   ]
  },
  {
   "cell_type": "code",
   "execution_count": 8,
   "metadata": {
    "collapsed": false
   },
   "outputs": [
    {
     "name": "stdout",
     "output_type": "stream",
     "text": [
      "Abuja       900.0\n",
      "Anambra    1100.0\n",
      "Ebonyi        NaN\n",
      "Kaduna     1300.0\n",
      "Lagos      1000.0\n",
      "Plateau     450.0\n",
      "dtype: float64\n"
     ]
    }
   ],
   "source": [
    "# third method: Involves passing a dictionary\n",
    "data = {'Lagos': 1000, 'Kaduna': 1300, 'Abuja': 900, 'Anambra': 1100,\n",
    "     'Plateau': 450, 'Ebonyi': None}\n",
    "states = pd.Series(data)\n",
    "print states"
   ]
  },
  {
   "cell_type": "markdown",
   "metadata": {},
   "source": [
    "### One can basically perform any operations on the series like a numpy array."
   ]
  },
  {
   "cell_type": "code",
   "execution_count": 11,
   "metadata": {
    "collapsed": false
   },
   "outputs": [
    {
     "name": "stdout",
     "output_type": "stream",
     "text": [
      "1000.0\n"
     ]
    }
   ],
   "source": [
    "print states['Lagos']  # index with dictionary keys"
   ]
  },
  {
   "cell_type": "code",
   "execution_count": 12,
   "metadata": {
    "collapsed": false
   },
   "outputs": [
    {
     "name": "stdout",
     "output_type": "stream",
     "text": [
      "Anambra    1100.0\n",
      "Kaduna     1300.0\n",
      "dtype: float64\n"
     ]
    }
   ],
   "source": [
    "print states[states > 1000]  # boolean indexing"
   ]
  },
  {
   "cell_type": "code",
   "execution_count": 13,
   "metadata": {
    "collapsed": false
   },
   "outputs": [
    {
     "name": "stdout",
     "output_type": "stream",
     "text": [
      "Abuja      False\n",
      "Anambra     True\n",
      "Ebonyi     False\n",
      "Kaduna      True\n",
      "Lagos      False\n",
      "Plateau    False\n",
      "dtype: bool\n"
     ]
    }
   ],
   "source": [
    "print states > 1000"
   ]
  },
  {
   "cell_type": "code",
   "execution_count": 14,
   "metadata": {
    "collapsed": false
   },
   "outputs": [
    {
     "name": "stdout",
     "output_type": "stream",
     "text": [
      "True\n"
     ]
    }
   ],
   "source": [
    "print 'Abuja' in states  # check for membership"
   ]
  },
  {
   "cell_type": "code",
   "execution_count": 15,
   "metadata": {
    "collapsed": false
   },
   "outputs": [
    {
     "name": "stdout",
     "output_type": "stream",
     "text": [
      "Abuja       True\n",
      "Anambra     True\n",
      "Ebonyi     False\n",
      "Kaduna      True\n",
      "Lagos       True\n",
      "Plateau     True\n",
      "dtype: bool\n"
     ]
    }
   ],
   "source": [
    "print states.notnull()  # check for availablility of values"
   ]
  },
  {
   "cell_type": "code",
   "execution_count": 18,
   "metadata": {
    "collapsed": false
   },
   "outputs": [
    {
     "name": "stdout",
     "output_type": "stream",
     "text": [
      "Ebonyi   NaN\n",
      "dtype: float64\n"
     ]
    }
   ],
   "source": [
    "print states[states.isnull()]   # expose null states"
   ]
  },
  {
   "cell_type": "markdown",
   "metadata": {},
   "source": [
    "# DataFrame\n",
    "\n",
    "### It's basically a table-like structure. It has rows and columns."
   ]
  },
  {
   "cell_type": "markdown",
   "metadata": {},
   "source": [
    "## How are DataFrames birthed\n",
    "\n",
    "### Let's explore some of the ways we can read in data.  "
   ]
  },
  {
   "cell_type": "code",
   "execution_count": 25,
   "metadata": {
    "collapsed": false
   },
   "outputs": [
    {
     "data": {
      "text/html": [
       "<div>\n",
       "<table border=\"1\" class=\"dataframe\">\n",
       "  <thead>\n",
       "    <tr style=\"text-align: right;\">\n",
       "      <th></th>\n",
       "      <th>year</th>\n",
       "      <th>team</th>\n",
       "      <th>goal_for</th>\n",
       "      <th>goal_against</th>\n",
       "    </tr>\n",
       "  </thead>\n",
       "  <tbody>\n",
       "    <tr>\n",
       "      <th>0</th>\n",
       "      <td>1986</td>\n",
       "      <td>Argentina</td>\n",
       "      <td>3</td>\n",
       "      <td>2</td>\n",
       "    </tr>\n",
       "    <tr>\n",
       "      <th>1</th>\n",
       "      <td>1990</td>\n",
       "      <td>Germany</td>\n",
       "      <td>1</td>\n",
       "      <td>0</td>\n",
       "    </tr>\n",
       "    <tr>\n",
       "      <th>2</th>\n",
       "      <td>1994</td>\n",
       "      <td>Brazil</td>\n",
       "      <td>3</td>\n",
       "      <td>2</td>\n",
       "    </tr>\n",
       "    <tr>\n",
       "      <th>3</th>\n",
       "      <td>1998</td>\n",
       "      <td>France</td>\n",
       "      <td>3</td>\n",
       "      <td>0</td>\n",
       "    </tr>\n",
       "    <tr>\n",
       "      <th>4</th>\n",
       "      <td>2002</td>\n",
       "      <td>Brazil</td>\n",
       "      <td>2</td>\n",
       "      <td>0</td>\n",
       "    </tr>\n",
       "    <tr>\n",
       "      <th>5</th>\n",
       "      <td>2006</td>\n",
       "      <td>Italy</td>\n",
       "      <td>5</td>\n",
       "      <td>3</td>\n",
       "    </tr>\n",
       "    <tr>\n",
       "      <th>6</th>\n",
       "      <td>2011</td>\n",
       "      <td>Spain</td>\n",
       "      <td>1</td>\n",
       "      <td>0</td>\n",
       "    </tr>\n",
       "    <tr>\n",
       "      <th>7</th>\n",
       "      <td>2014</td>\n",
       "      <td>Germany</td>\n",
       "      <td>1</td>\n",
       "      <td>0</td>\n",
       "    </tr>\n",
       "  </tbody>\n",
       "</table>\n",
       "</div>"
      ],
      "text/plain": [
       "   year       team  goal_for  goal_against\n",
       "0  1986  Argentina         3             2\n",
       "1  1990    Germany         1             0\n",
       "2  1994     Brazil         3             2\n",
       "3  1998     France         3             0\n",
       "4  2002     Brazil         2             0\n",
       "5  2006      Italy         5             3\n",
       "6  2011      Spain         1             0\n",
       "7  2014    Germany         1             0"
      ]
     },
     "execution_count": 25,
     "metadata": {},
     "output_type": "execute_result"
    }
   ],
   "source": [
    "# we can create a new dataframe\n",
    "data = {'year': [1986, 1990, 1994, 1998, 2002, 2006, 2011, 2014],\n",
    "        'team': ['Argentina', 'Germany', 'Brazil', 'France', 'Brazil', 'Italy', 'Spain', 'Germany'],\n",
    "        'goal_for': [3, 1, 3, 3, 2, 5, 1, 1],\n",
    "        'goal_against': [2, 0, 2, 0, 0, 3, 0, 0]}\n",
    "soccer = pd.DataFrame(data, columns=['year', 'team', 'goal_for', 'goal_against'])\n",
    "soccer"
   ]
  },
  {
   "cell_type": "code",
   "execution_count": 26,
   "metadata": {
    "collapsed": false
   },
   "outputs": [
    {
     "data": {
      "text/html": [
       "<div>\n",
       "<table border=\"1\" class=\"dataframe\">\n",
       "  <thead>\n",
       "    <tr style=\"text-align: right;\">\n",
       "      <th></th>\n",
       "      <th>Name of School</th>\n",
       "      <th>LGA</th>\n",
       "      <th>Ownership</th>\n",
       "      <th>Type of School</th>\n",
       "      <th>Email</th>\n",
       "      <th>Phone Numbers</th>\n",
       "      <th>Link</th>\n",
       "    </tr>\n",
       "  </thead>\n",
       "  <tbody>\n",
       "    <tr>\n",
       "      <th>0</th>\n",
       "      <td>ALTERNATIVE HIGH SCHOOL FOR GIRLS, Agboju</td>\n",
       "      <td>State owned</td>\n",
       "      <td>Amuwo-Odofin</td>\n",
       "      <td>Secondary</td>\n",
       "      <td>altergirlssc@lagosschoolsonline.com</td>\n",
       "      <td>08037218349</td>\n",
       "      <td>=HYPERLINK(\"http://www.lagosschoolsonline.com/...</td>\n",
       "    </tr>\n",
       "    <tr>\n",
       "      <th>1</th>\n",
       "      <td>A &amp; T COLLEGE, Tabon-Tabon</td>\n",
       "      <td>Privately owned</td>\n",
       "      <td>Agege</td>\n",
       "      <td>Secondary</td>\n",
       "      <td></td>\n",
       "      <td>0803 385 4578,  0803 325 8098</td>\n",
       "      <td>=HYPERLINK(\"http://www.lagosschoolsonline.com/...</td>\n",
       "    </tr>\n",
       "    <tr>\n",
       "      <th>2</th>\n",
       "      <td>A P COLLEGE,  Ejigbo</td>\n",
       "      <td>Privately owned</td>\n",
       "      <td>Oshodi-Isolo</td>\n",
       "      <td>Secondary</td>\n",
       "      <td>anyebe_peter@yahoo.com</td>\n",
       "      <td>0805 193 2373,   0806 683 7468</td>\n",
       "      <td>=HYPERLINK(\"http://www.lagosschoolsonline.com/...</td>\n",
       "    </tr>\n",
       "    <tr>\n",
       "      <th>3</th>\n",
       "      <td>A-U-D JUNIOR COMPREHENSIVE HIGH SCHOOL</td>\n",
       "      <td>State owned</td>\n",
       "      <td>Oshodi-Isolo</td>\n",
       "      <td>Secondary</td>\n",
       "      <td>okotaaudjnr@yahoo.com</td>\n",
       "      <td>0802 033 0476</td>\n",
       "      <td>=HYPERLINK(\"http://www.lagosschoolsonline.com/...</td>\n",
       "    </tr>\n",
       "    <tr>\n",
       "      <th>4</th>\n",
       "      <td>A-U-D JUNIOR GRAMMAR SCHOOL</td>\n",
       "      <td>State owned</td>\n",
       "      <td>Oshodi-Isolo</td>\n",
       "      <td>Secondary</td>\n",
       "      <td></td>\n",
       "      <td>08023509792</td>\n",
       "      <td>=HYPERLINK(\"http://www.lagosschoolsonline.com/...</td>\n",
       "    </tr>\n",
       "  </tbody>\n",
       "</table>\n",
       "</div>"
      ],
      "text/plain": [
       "                               Name of School              LGA     Ownership  \\\n",
       "0   ALTERNATIVE HIGH SCHOOL FOR GIRLS, Agboju      State owned  Amuwo-Odofin   \n",
       "1                  A & T COLLEGE, Tabon-Tabon  Privately owned         Agege   \n",
       "2                        A P COLLEGE,  Ejigbo  Privately owned  Oshodi-Isolo   \n",
       "3      A-U-D JUNIOR COMPREHENSIVE HIGH SCHOOL      State owned  Oshodi-Isolo   \n",
       "4                 A-U-D JUNIOR GRAMMAR SCHOOL      State owned  Oshodi-Isolo   \n",
       "\n",
       "  Type of School                                 Email  \\\n",
       "0      Secondary   altergirlssc@lagosschoolsonline.com   \n",
       "1      Secondary                                         \n",
       "2      Secondary                anyebe_peter@yahoo.com   \n",
       "3      Secondary                 okotaaudjnr@yahoo.com   \n",
       "4      Secondary                                         \n",
       "\n",
       "                     Phone Numbers  \\\n",
       "0                      08037218349   \n",
       "1    0803 385 4578,  0803 325 8098   \n",
       "2   0805 193 2373,   0806 683 7468   \n",
       "3                    0802 033 0476   \n",
       "4                      08023509792   \n",
       "\n",
       "                                                Link  \n",
       "0  =HYPERLINK(\"http://www.lagosschoolsonline.com/...  \n",
       "1  =HYPERLINK(\"http://www.lagosschoolsonline.com/...  \n",
       "2  =HYPERLINK(\"http://www.lagosschoolsonline.com/...  \n",
       "3  =HYPERLINK(\"http://www.lagosschoolsonline.com/...  \n",
       "4  =HYPERLINK(\"http://www.lagosschoolsonline.com/...  "
      ]
     },
     "execution_count": 26,
     "metadata": {},
     "output_type": "execute_result"
    }
   ],
   "source": [
    "from_csv = pd.read_csv('Secondary.csv')\n",
    "from_csv.head()"
   ]
  },
  {
   "cell_type": "markdown",
   "metadata": {},
   "source": [
    "### So let's write to excel and also read from excel. This might require installing xlrd, so let's do pip install xlrd"
   ]
  },
  {
   "cell_type": "code",
   "execution_count": 27,
   "metadata": {
    "collapsed": false
   },
   "outputs": [
    {
     "data": {
      "text/html": [
       "<div>\n",
       "<table border=\"1\" class=\"dataframe\">\n",
       "  <thead>\n",
       "    <tr style=\"text-align: right;\">\n",
       "      <th></th>\n",
       "      <th>year</th>\n",
       "      <th>team</th>\n",
       "      <th>goal_for</th>\n",
       "      <th>goal_against</th>\n",
       "    </tr>\n",
       "  </thead>\n",
       "  <tbody>\n",
       "    <tr>\n",
       "      <th>0</th>\n",
       "      <td>1986</td>\n",
       "      <td>Argentina</td>\n",
       "      <td>3</td>\n",
       "      <td>2</td>\n",
       "    </tr>\n",
       "    <tr>\n",
       "      <th>1</th>\n",
       "      <td>1990</td>\n",
       "      <td>Germany</td>\n",
       "      <td>1</td>\n",
       "      <td>0</td>\n",
       "    </tr>\n",
       "    <tr>\n",
       "      <th>2</th>\n",
       "      <td>1994</td>\n",
       "      <td>Brazil</td>\n",
       "      <td>3</td>\n",
       "      <td>2</td>\n",
       "    </tr>\n",
       "    <tr>\n",
       "      <th>3</th>\n",
       "      <td>1998</td>\n",
       "      <td>France</td>\n",
       "      <td>3</td>\n",
       "      <td>0</td>\n",
       "    </tr>\n",
       "    <tr>\n",
       "      <th>4</th>\n",
       "      <td>2002</td>\n",
       "      <td>Brazil</td>\n",
       "      <td>2</td>\n",
       "      <td>0</td>\n",
       "    </tr>\n",
       "  </tbody>\n",
       "</table>\n",
       "</div>"
      ],
      "text/plain": [
       "   year       team  goal_for  goal_against\n",
       "0  1986  Argentina         3             2\n",
       "1  1990    Germany         1             0\n",
       "2  1994     Brazil         3             2\n",
       "3  1998     France         3             0\n",
       "4  2002     Brazil         2             0"
      ]
     },
     "execution_count": 27,
     "metadata": {},
     "output_type": "execute_result"
    }
   ],
   "source": [
    "soccer.head()"
   ]
  },
  {
   "cell_type": "code",
   "execution_count": 28,
   "metadata": {
    "collapsed": true
   },
   "outputs": [],
   "source": [
    "soccer.to_excel('soccer.xlsx')"
   ]
  },
  {
   "cell_type": "code",
   "execution_count": 29,
   "metadata": {
    "collapsed": true
   },
   "outputs": [],
   "source": [
    "del soccer"
   ]
  },
  {
   "cell_type": "code",
   "execution_count": 30,
   "metadata": {
    "collapsed": true
   },
   "outputs": [],
   "source": [
    "soccer = pd.read_excel('soccer.xlsx')"
   ]
  },
  {
   "cell_type": "code",
   "execution_count": 31,
   "metadata": {
    "collapsed": false
   },
   "outputs": [
    {
     "data": {
      "text/html": [
       "<div>\n",
       "<table border=\"1\" class=\"dataframe\">\n",
       "  <thead>\n",
       "    <tr style=\"text-align: right;\">\n",
       "      <th></th>\n",
       "      <th>year</th>\n",
       "      <th>team</th>\n",
       "      <th>goal_for</th>\n",
       "      <th>goal_against</th>\n",
       "    </tr>\n",
       "  </thead>\n",
       "  <tbody>\n",
       "    <tr>\n",
       "      <th>0</th>\n",
       "      <td>1986</td>\n",
       "      <td>Argentina</td>\n",
       "      <td>3</td>\n",
       "      <td>2</td>\n",
       "    </tr>\n",
       "    <tr>\n",
       "      <th>1</th>\n",
       "      <td>1990</td>\n",
       "      <td>Germany</td>\n",
       "      <td>1</td>\n",
       "      <td>0</td>\n",
       "    </tr>\n",
       "    <tr>\n",
       "      <th>2</th>\n",
       "      <td>1994</td>\n",
       "      <td>Brazil</td>\n",
       "      <td>3</td>\n",
       "      <td>2</td>\n",
       "    </tr>\n",
       "    <tr>\n",
       "      <th>3</th>\n",
       "      <td>1998</td>\n",
       "      <td>France</td>\n",
       "      <td>3</td>\n",
       "      <td>0</td>\n",
       "    </tr>\n",
       "    <tr>\n",
       "      <th>4</th>\n",
       "      <td>2002</td>\n",
       "      <td>Brazil</td>\n",
       "      <td>2</td>\n",
       "      <td>0</td>\n",
       "    </tr>\n",
       "  </tbody>\n",
       "</table>\n",
       "</div>"
      ],
      "text/plain": [
       "   year       team  goal_for  goal_against\n",
       "0  1986  Argentina         3             2\n",
       "1  1990    Germany         1             0\n",
       "2  1994     Brazil         3             2\n",
       "3  1998     France         3             0\n",
       "4  2002     Brazil         2             0"
      ]
     },
     "execution_count": 31,
     "metadata": {},
     "output_type": "execute_result"
    }
   ],
   "source": [
    "soccer.head()"
   ]
  },
  {
   "cell_type": "markdown",
   "metadata": {},
   "source": [
    "## Reading From SQL database"
   ]
  },
  {
   "cell_type": "code",
   "execution_count": 43,
   "metadata": {
    "collapsed": false
   },
   "outputs": [],
   "source": [
    "import os\n",
    "basedir = os.path.realpath('.')\n",
    "from pandas.io import sql\n",
    "import sqlite3\n",
    "#conn = sqlite3.connect('sqlite:////' + os.path.join(basedir, 'data.sqlite'))\n",
    "conn = sqlite3.connect('data.sqlite')"
   ]
  },
  {
   "cell_type": "code",
   "execution_count": 45,
   "metadata": {
    "collapsed": false
   },
   "outputs": [],
   "source": [
    "soccer.to_sql(name='test',con=conn)"
   ]
  },
  {
   "cell_type": "code",
   "execution_count": 49,
   "metadata": {
    "collapsed": false
   },
   "outputs": [
    {
     "data": {
      "text/html": [
       "<div>\n",
       "<table border=\"1\" class=\"dataframe\">\n",
       "  <thead>\n",
       "    <tr style=\"text-align: right;\">\n",
       "      <th></th>\n",
       "      <th>index</th>\n",
       "      <th>year</th>\n",
       "      <th>team</th>\n",
       "      <th>goal_for</th>\n",
       "      <th>goal_against</th>\n",
       "    </tr>\n",
       "  </thead>\n",
       "  <tbody>\n",
       "    <tr>\n",
       "      <th>0</th>\n",
       "      <td>0</td>\n",
       "      <td>1986</td>\n",
       "      <td>Argentina</td>\n",
       "      <td>3</td>\n",
       "      <td>2</td>\n",
       "    </tr>\n",
       "    <tr>\n",
       "      <th>1</th>\n",
       "      <td>1</td>\n",
       "      <td>1990</td>\n",
       "      <td>Germany</td>\n",
       "      <td>1</td>\n",
       "      <td>0</td>\n",
       "    </tr>\n",
       "    <tr>\n",
       "      <th>2</th>\n",
       "      <td>2</td>\n",
       "      <td>1994</td>\n",
       "      <td>Brazil</td>\n",
       "      <td>3</td>\n",
       "      <td>2</td>\n",
       "    </tr>\n",
       "    <tr>\n",
       "      <th>3</th>\n",
       "      <td>3</td>\n",
       "      <td>1998</td>\n",
       "      <td>France</td>\n",
       "      <td>3</td>\n",
       "      <td>0</td>\n",
       "    </tr>\n",
       "    <tr>\n",
       "      <th>4</th>\n",
       "      <td>4</td>\n",
       "      <td>2002</td>\n",
       "      <td>Brazil</td>\n",
       "      <td>2</td>\n",
       "      <td>0</td>\n",
       "    </tr>\n",
       "  </tbody>\n",
       "</table>\n",
       "</div>"
      ],
      "text/plain": [
       "   index  year       team  goal_for  goal_against\n",
       "0      0  1986  Argentina         3             2\n",
       "1      1  1990    Germany         1             0\n",
       "2      2  1994     Brazil         3             2\n",
       "3      3  1998     France         3             0\n",
       "4      4  2002     Brazil         2             0"
      ]
     },
     "execution_count": 49,
     "metadata": {},
     "output_type": "execute_result"
    }
   ],
   "source": [
    "query = \"SELECT * FROM test\"\n",
    "result = pd.read_sql(query, con=conn)\n",
    "result.head()"
   ]
  },
  {
   "cell_type": "markdown",
   "metadata": {},
   "source": [
    "## Read data from url"
   ]
  },
  {
   "cell_type": "code",
   "execution_count": 50,
   "metadata": {
    "collapsed": false
   },
   "outputs": [
    {
     "data": {
      "text/html": [
       "<div>\n",
       "<table border=\"1\" class=\"dataframe\">\n",
       "  <thead>\n",
       "    <tr style=\"text-align: right;\">\n",
       "      <th></th>\n",
       "      <th>Name of School</th>\n",
       "      <th>School Description</th>\n",
       "      <th>Type of School</th>\n",
       "      <th>Address</th>\n",
       "      <th>Phone Numbers</th>\n",
       "      <th>School Website</th>\n",
       "      <th>Link</th>\n",
       "    </tr>\n",
       "  </thead>\n",
       "  <tbody>\n",
       "    <tr>\n",
       "      <th>0</th>\n",
       "      <td>Aduvie International School</td>\n",
       "      <td>Aduvie International School offers educational...</td>\n",
       "      <td>international-schools</td>\n",
       "      <td>Plot 273, BO8, Cadastral Zone, Jahi District, ...</td>\n",
       "      <td>0808 939 4474</td>\n",
       "      <td>=HYPERLINK(\"http://www.aduvieinternationalscho...</td>\n",
       "      <td>=HYPERLINK(\"http://www.finelib.com/listing/Adu...</td>\n",
       "    </tr>\n",
       "    <tr>\n",
       "      <th>1</th>\n",
       "      <td>British Canadian International Education</td>\n",
       "      <td>BCIE is a reputable independent organisation t...</td>\n",
       "      <td>international-schools</td>\n",
       "      <td>24B, Djibouti Crescent, 5th House after Zartec...</td>\n",
       "      <td>0817-149-5402, 0909-347-8930, 0806-678-8636</td>\n",
       "      <td>=HYPERLINK(\"http://www.bcie.co.uk/offices/nige...</td>\n",
       "      <td>=HYPERLINK(\"http://www.finelib.com/listing/Bri...</td>\n",
       "    </tr>\n",
       "    <tr>\n",
       "      <th>2</th>\n",
       "      <td>Center for Teaching &amp; Learning (CTL)</td>\n",
       "      <td>CTL Academy is an international school offerin...</td>\n",
       "      <td>international-schools</td>\n",
       "      <td>2, Oladunni Ayandipo Close, Katampe Extension,...</td>\n",
       "      <td>0818 194 6446, 0703 514 7277</td>\n",
       "      <td>=HYPERLINK(\"http://www.ctlacademy.org/\",\"Visit...</td>\n",
       "      <td>=HYPERLINK(\"http://www.finelib.com/listing/Cen...</td>\n",
       "    </tr>\n",
       "    <tr>\n",
       "      <th>3</th>\n",
       "      <td>Efab International School</td>\n",
       "      <td>Efab International School provides educational...</td>\n",
       "      <td>international-schools</td>\n",
       "      <td>Along 2nd Avenue, Efab City Estate, Mbora, Abu...</td>\n",
       "      <td>0817 490 9071</td>\n",
       "      <td>=HYPERLINK(\"http://www.efabintlschool.com/\",\"V...</td>\n",
       "      <td>=HYPERLINK(\"http://www.finelib.com/listing/Efa...</td>\n",
       "    </tr>\n",
       "    <tr>\n",
       "      <th>4</th>\n",
       "      <td>FAMAKS International School</td>\n",
       "      <td>FAMAKS International School provides education...</td>\n",
       "      <td>international-schools</td>\n",
       "      <td>8, Adekunle Fajyi Close, Off Ajayi Crowther St...</td>\n",
       "      <td>0808 305 1079</td>\n",
       "      <td>=HYPERLINK(\"http://www.famakschools.com/\",\"Vis...</td>\n",
       "      <td>=HYPERLINK(\"http://www.finelib.com/listing/FAM...</td>\n",
       "    </tr>\n",
       "  </tbody>\n",
       "</table>\n",
       "</div>"
      ],
      "text/plain": [
       "                             Name of School  \\\n",
       "0               Aduvie International School   \n",
       "1  British Canadian International Education   \n",
       "2      Center for Teaching & Learning (CTL)   \n",
       "3                 Efab International School   \n",
       "4               FAMAKS International School   \n",
       "\n",
       "                                  School Description         Type of School  \\\n",
       "0  Aduvie International School offers educational...  international-schools   \n",
       "1  BCIE is a reputable independent organisation t...  international-schools   \n",
       "2  CTL Academy is an international school offerin...  international-schools   \n",
       "3  Efab International School provides educational...  international-schools   \n",
       "4  FAMAKS International School provides education...  international-schools   \n",
       "\n",
       "                                             Address  \\\n",
       "0  Plot 273, BO8, Cadastral Zone, Jahi District, ...   \n",
       "1  24B, Djibouti Crescent, 5th House after Zartec...   \n",
       "2  2, Oladunni Ayandipo Close, Katampe Extension,...   \n",
       "3  Along 2nd Avenue, Efab City Estate, Mbora, Abu...   \n",
       "4  8, Adekunle Fajyi Close, Off Ajayi Crowther St...   \n",
       "\n",
       "                                 Phone Numbers  \\\n",
       "0                                0808 939 4474   \n",
       "1  0817-149-5402, 0909-347-8930, 0806-678-8636   \n",
       "2                 0818 194 6446, 0703 514 7277   \n",
       "3                                0817 490 9071   \n",
       "4                                0808 305 1079   \n",
       "\n",
       "                                      School Website  \\\n",
       "0  =HYPERLINK(\"http://www.aduvieinternationalscho...   \n",
       "1  =HYPERLINK(\"http://www.bcie.co.uk/offices/nige...   \n",
       "2  =HYPERLINK(\"http://www.ctlacademy.org/\",\"Visit...   \n",
       "3  =HYPERLINK(\"http://www.efabintlschool.com/\",\"V...   \n",
       "4  =HYPERLINK(\"http://www.famakschools.com/\",\"Vis...   \n",
       "\n",
       "                                                Link  \n",
       "0  =HYPERLINK(\"http://www.finelib.com/listing/Adu...  \n",
       "1  =HYPERLINK(\"http://www.finelib.com/listing/Bri...  \n",
       "2  =HYPERLINK(\"http://www.finelib.com/listing/Cen...  \n",
       "3  =HYPERLINK(\"http://www.finelib.com/listing/Efa...  \n",
       "4  =HYPERLINK(\"http://www.finelib.com/listing/FAM...  "
      ]
     },
     "execution_count": 50,
     "metadata": {},
     "output_type": "execute_result"
    }
   ],
   "source": [
    "url = 'https://raw.githubusercontent.com/kantologist/abuja_schools/master/data/international-schools.csv'\n",
    "from_url = pd.read_csv(url)\n",
    "from_url.head()"
   ]
  },
  {
   "cell_type": "markdown",
   "metadata": {},
   "source": [
    "## So let's explore a sample data. Lagos Schools"
   ]
  },
  {
   "cell_type": "code",
   "execution_count": 52,
   "metadata": {
    "collapsed": false
   },
   "outputs": [
    {
     "data": {
      "text/html": [
       "<div>\n",
       "<table border=\"1\" class=\"dataframe\">\n",
       "  <thead>\n",
       "    <tr style=\"text-align: right;\">\n",
       "      <th></th>\n",
       "      <th>Name of School</th>\n",
       "      <th>LGA</th>\n",
       "      <th>Ownership</th>\n",
       "      <th>Type of School</th>\n",
       "      <th>Email</th>\n",
       "      <th>Phone Numbers</th>\n",
       "      <th>Link</th>\n",
       "    </tr>\n",
       "  </thead>\n",
       "  <tbody>\n",
       "    <tr>\n",
       "      <th>0</th>\n",
       "      <td>ALTERNATIVE HIGH SCHOOL FOR GIRLS, Agboju</td>\n",
       "      <td>State owned</td>\n",
       "      <td>Amuwo-Odofin</td>\n",
       "      <td>Secondary</td>\n",
       "      <td>altergirlssc@lagosschoolsonline.com</td>\n",
       "      <td>08037218349</td>\n",
       "      <td>=HYPERLINK(\"http://www.lagosschoolsonline.com/...</td>\n",
       "    </tr>\n",
       "    <tr>\n",
       "      <th>1</th>\n",
       "      <td>A &amp; T COLLEGE, Tabon-Tabon</td>\n",
       "      <td>Privately owned</td>\n",
       "      <td>Agege</td>\n",
       "      <td>Secondary</td>\n",
       "      <td></td>\n",
       "      <td>0803 385 4578,  0803 325 8098</td>\n",
       "      <td>=HYPERLINK(\"http://www.lagosschoolsonline.com/...</td>\n",
       "    </tr>\n",
       "    <tr>\n",
       "      <th>2</th>\n",
       "      <td>A P COLLEGE,  Ejigbo</td>\n",
       "      <td>Privately owned</td>\n",
       "      <td>Oshodi-Isolo</td>\n",
       "      <td>Secondary</td>\n",
       "      <td>anyebe_peter@yahoo.com</td>\n",
       "      <td>0805 193 2373,   0806 683 7468</td>\n",
       "      <td>=HYPERLINK(\"http://www.lagosschoolsonline.com/...</td>\n",
       "    </tr>\n",
       "    <tr>\n",
       "      <th>3</th>\n",
       "      <td>A-U-D JUNIOR COMPREHENSIVE HIGH SCHOOL</td>\n",
       "      <td>State owned</td>\n",
       "      <td>Oshodi-Isolo</td>\n",
       "      <td>Secondary</td>\n",
       "      <td>okotaaudjnr@yahoo.com</td>\n",
       "      <td>0802 033 0476</td>\n",
       "      <td>=HYPERLINK(\"http://www.lagosschoolsonline.com/...</td>\n",
       "    </tr>\n",
       "    <tr>\n",
       "      <th>4</th>\n",
       "      <td>A-U-D JUNIOR GRAMMAR SCHOOL</td>\n",
       "      <td>State owned</td>\n",
       "      <td>Oshodi-Isolo</td>\n",
       "      <td>Secondary</td>\n",
       "      <td></td>\n",
       "      <td>08023509792</td>\n",
       "      <td>=HYPERLINK(\"http://www.lagosschoolsonline.com/...</td>\n",
       "    </tr>\n",
       "  </tbody>\n",
       "</table>\n",
       "</div>"
      ],
      "text/plain": [
       "                               Name of School              LGA     Ownership  \\\n",
       "0   ALTERNATIVE HIGH SCHOOL FOR GIRLS, Agboju      State owned  Amuwo-Odofin   \n",
       "1                  A & T COLLEGE, Tabon-Tabon  Privately owned         Agege   \n",
       "2                        A P COLLEGE,  Ejigbo  Privately owned  Oshodi-Isolo   \n",
       "3      A-U-D JUNIOR COMPREHENSIVE HIGH SCHOOL      State owned  Oshodi-Isolo   \n",
       "4                 A-U-D JUNIOR GRAMMAR SCHOOL      State owned  Oshodi-Isolo   \n",
       "\n",
       "  Type of School                                 Email  \\\n",
       "0      Secondary   altergirlssc@lagosschoolsonline.com   \n",
       "1      Secondary                                         \n",
       "2      Secondary                anyebe_peter@yahoo.com   \n",
       "3      Secondary                 okotaaudjnr@yahoo.com   \n",
       "4      Secondary                                         \n",
       "\n",
       "                     Phone Numbers  \\\n",
       "0                      08037218349   \n",
       "1    0803 385 4578,  0803 325 8098   \n",
       "2   0805 193 2373,   0806 683 7468   \n",
       "3                    0802 033 0476   \n",
       "4                      08023509792   \n",
       "\n",
       "                                                Link  \n",
       "0  =HYPERLINK(\"http://www.lagosschoolsonline.com/...  \n",
       "1  =HYPERLINK(\"http://www.lagosschoolsonline.com/...  \n",
       "2  =HYPERLINK(\"http://www.lagosschoolsonline.com/...  \n",
       "3  =HYPERLINK(\"http://www.lagosschoolsonline.com/...  \n",
       "4  =HYPERLINK(\"http://www.lagosschoolsonline.com/...  "
      ]
     },
     "execution_count": 52,
     "metadata": {},
     "output_type": "execute_result"
    }
   ],
   "source": [
    "schools = from_csv\n",
    "schools.head()"
   ]
  },
  {
   "cell_type": "code",
   "execution_count": 53,
   "metadata": {
    "collapsed": false
   },
   "outputs": [
    {
     "name": "stdout",
     "output_type": "stream",
     "text": [
      "<class 'pandas.core.frame.DataFrame'>\n",
      "RangeIndex: 2098 entries, 0 to 2097\n",
      "Data columns (total 7 columns):\n",
      "Name of School    2098 non-null object\n",
      "LGA               2098 non-null object\n",
      "Ownership         2083 non-null object\n",
      "Type of School    2098 non-null object\n",
      "Email             2097 non-null object\n",
      "Phone Numbers     2098 non-null object\n",
      "Link              2098 non-null object\n",
      "dtypes: object(7)\n",
      "memory usage: 114.8+ KB\n"
     ]
    }
   ],
   "source": [
    "schools.info()   # data inspection"
   ]
  },
  {
   "cell_type": "code",
   "execution_count": 54,
   "metadata": {
    "collapsed": false
   },
   "outputs": [
    {
     "data": {
      "text/plain": [
       "Name of School    object\n",
       "LGA               object\n",
       "Ownership         object\n",
       "Type of School    object\n",
       "Email             object\n",
       "Phone Numbers     object\n",
       "Link              object\n",
       "dtype: object"
      ]
     },
     "execution_count": 54,
     "metadata": {},
     "output_type": "execute_result"
    }
   ],
   "source": [
    "schools.dtypes"
   ]
  },
  {
   "cell_type": "code",
   "execution_count": 56,
   "metadata": {
    "collapsed": false
   },
   "outputs": [
    {
     "data": {
      "text/html": [
       "<div>\n",
       "<table border=\"1\" class=\"dataframe\">\n",
       "  <thead>\n",
       "    <tr style=\"text-align: right;\">\n",
       "      <th></th>\n",
       "      <th>Name of School</th>\n",
       "      <th>LGA</th>\n",
       "      <th>Ownership</th>\n",
       "      <th>Type of School</th>\n",
       "      <th>Email</th>\n",
       "      <th>Phone Numbers</th>\n",
       "      <th>Link</th>\n",
       "    </tr>\n",
       "  </thead>\n",
       "  <tbody>\n",
       "    <tr>\n",
       "      <th>count</th>\n",
       "      <td>2098</td>\n",
       "      <td>2098</td>\n",
       "      <td>2083</td>\n",
       "      <td>2098</td>\n",
       "      <td>2097</td>\n",
       "      <td>2098</td>\n",
       "      <td>2098</td>\n",
       "    </tr>\n",
       "    <tr>\n",
       "      <th>unique</th>\n",
       "      <td>1699</td>\n",
       "      <td>7</td>\n",
       "      <td>26</td>\n",
       "      <td>2</td>\n",
       "      <td>1351</td>\n",
       "      <td>1686</td>\n",
       "      <td>1708</td>\n",
       "    </tr>\n",
       "    <tr>\n",
       "      <th>top</th>\n",
       "      <td>COMMUNITY JUNIOR SECONDARY SCHOOL</td>\n",
       "      <td>Privately owned</td>\n",
       "      <td>Alimosho</td>\n",
       "      <td>Secondary</td>\n",
       "      <td></td>\n",
       "      <td></td>\n",
       "      <td>=HYPERLINK(\"http://www.lagosschoolsonline.com/...</td>\n",
       "    </tr>\n",
       "    <tr>\n",
       "      <th>freq</th>\n",
       "      <td>4</td>\n",
       "      <td>1166</td>\n",
       "      <td>386</td>\n",
       "      <td>2097</td>\n",
       "      <td>418</td>\n",
       "      <td>7</td>\n",
       "      <td>2</td>\n",
       "    </tr>\n",
       "  </tbody>\n",
       "</table>\n",
       "</div>"
      ],
      "text/plain": [
       "                           Name of School              LGA Ownership  \\\n",
       "count                                2098             2098      2083   \n",
       "unique                               1699                7        26   \n",
       "top     COMMUNITY JUNIOR SECONDARY SCHOOL  Privately owned  Alimosho   \n",
       "freq                                    4             1166       386   \n",
       "\n",
       "       Type of School Email Phone Numbers  \\\n",
       "count            2098  2097          2098   \n",
       "unique              2  1351          1686   \n",
       "top         Secondary                       \n",
       "freq             2097   418             7   \n",
       "\n",
       "                                                     Link  \n",
       "count                                                2098  \n",
       "unique                                               1708  \n",
       "top     =HYPERLINK(\"http://www.lagosschoolsonline.com/...  \n",
       "freq                                                    2  "
      ]
     },
     "execution_count": 56,
     "metadata": {},
     "output_type": "execute_result"
    }
   ],
   "source": [
    "schools.describe()"
   ]
  },
  {
   "cell_type": "code",
   "execution_count": 57,
   "metadata": {
    "collapsed": false
   },
   "outputs": [
    {
     "data": {
      "text/html": [
       "<div>\n",
       "<table border=\"1\" class=\"dataframe\">\n",
       "  <thead>\n",
       "    <tr style=\"text-align: right;\">\n",
       "      <th></th>\n",
       "      <th>Name of School</th>\n",
       "      <th>LGA</th>\n",
       "      <th>Ownership</th>\n",
       "      <th>Type of School</th>\n",
       "      <th>Email</th>\n",
       "      <th>Phone Numbers</th>\n",
       "      <th>Link</th>\n",
       "    </tr>\n",
       "  </thead>\n",
       "  <tbody>\n",
       "    <tr>\n",
       "      <th>0</th>\n",
       "      <td>ALTERNATIVE HIGH SCHOOL FOR GIRLS, Agboju</td>\n",
       "      <td>State owned</td>\n",
       "      <td>Amuwo-Odofin</td>\n",
       "      <td>Secondary</td>\n",
       "      <td>altergirlssc@lagosschoolsonline.com</td>\n",
       "      <td>08037218349</td>\n",
       "      <td>=HYPERLINK(\"http://www.lagosschoolsonline.com/...</td>\n",
       "    </tr>\n",
       "    <tr>\n",
       "      <th>1</th>\n",
       "      <td>A &amp; T COLLEGE, Tabon-Tabon</td>\n",
       "      <td>Privately owned</td>\n",
       "      <td>Agege</td>\n",
       "      <td>Secondary</td>\n",
       "      <td></td>\n",
       "      <td>0803 385 4578,  0803 325 8098</td>\n",
       "      <td>=HYPERLINK(\"http://www.lagosschoolsonline.com/...</td>\n",
       "    </tr>\n",
       "    <tr>\n",
       "      <th>2</th>\n",
       "      <td>A P COLLEGE,  Ejigbo</td>\n",
       "      <td>Privately owned</td>\n",
       "      <td>Oshodi-Isolo</td>\n",
       "      <td>Secondary</td>\n",
       "      <td>anyebe_peter@yahoo.com</td>\n",
       "      <td>0805 193 2373,   0806 683 7468</td>\n",
       "      <td>=HYPERLINK(\"http://www.lagosschoolsonline.com/...</td>\n",
       "    </tr>\n",
       "    <tr>\n",
       "      <th>3</th>\n",
       "      <td>A-U-D JUNIOR COMPREHENSIVE HIGH SCHOOL</td>\n",
       "      <td>State owned</td>\n",
       "      <td>Oshodi-Isolo</td>\n",
       "      <td>Secondary</td>\n",
       "      <td>okotaaudjnr@yahoo.com</td>\n",
       "      <td>0802 033 0476</td>\n",
       "      <td>=HYPERLINK(\"http://www.lagosschoolsonline.com/...</td>\n",
       "    </tr>\n",
       "    <tr>\n",
       "      <th>4</th>\n",
       "      <td>A-U-D JUNIOR GRAMMAR SCHOOL</td>\n",
       "      <td>State owned</td>\n",
       "      <td>Oshodi-Isolo</td>\n",
       "      <td>Secondary</td>\n",
       "      <td></td>\n",
       "      <td>08023509792</td>\n",
       "      <td>=HYPERLINK(\"http://www.lagosschoolsonline.com/...</td>\n",
       "    </tr>\n",
       "  </tbody>\n",
       "</table>\n",
       "</div>"
      ],
      "text/plain": [
       "                               Name of School              LGA     Ownership  \\\n",
       "0   ALTERNATIVE HIGH SCHOOL FOR GIRLS, Agboju      State owned  Amuwo-Odofin   \n",
       "1                  A & T COLLEGE, Tabon-Tabon  Privately owned         Agege   \n",
       "2                        A P COLLEGE,  Ejigbo  Privately owned  Oshodi-Isolo   \n",
       "3      A-U-D JUNIOR COMPREHENSIVE HIGH SCHOOL      State owned  Oshodi-Isolo   \n",
       "4                 A-U-D JUNIOR GRAMMAR SCHOOL      State owned  Oshodi-Isolo   \n",
       "\n",
       "  Type of School                                 Email  \\\n",
       "0      Secondary   altergirlssc@lagosschoolsonline.com   \n",
       "1      Secondary                                         \n",
       "2      Secondary                anyebe_peter@yahoo.com   \n",
       "3      Secondary                 okotaaudjnr@yahoo.com   \n",
       "4      Secondary                                         \n",
       "\n",
       "                     Phone Numbers  \\\n",
       "0                      08037218349   \n",
       "1    0803 385 4578,  0803 325 8098   \n",
       "2   0805 193 2373,   0806 683 7468   \n",
       "3                    0802 033 0476   \n",
       "4                      08023509792   \n",
       "\n",
       "                                                Link  \n",
       "0  =HYPERLINK(\"http://www.lagosschoolsonline.com/...  \n",
       "1  =HYPERLINK(\"http://www.lagosschoolsonline.com/...  \n",
       "2  =HYPERLINK(\"http://www.lagosschoolsonline.com/...  \n",
       "3  =HYPERLINK(\"http://www.lagosschoolsonline.com/...  \n",
       "4  =HYPERLINK(\"http://www.lagosschoolsonline.com/...  "
      ]
     },
     "execution_count": 57,
     "metadata": {},
     "output_type": "execute_result"
    }
   ],
   "source": [
    "schools.head()"
   ]
  },
  {
   "cell_type": "code",
   "execution_count": 58,
   "metadata": {
    "collapsed": false
   },
   "outputs": [
    {
     "data": {
      "text/html": [
       "<div>\n",
       "<table border=\"1\" class=\"dataframe\">\n",
       "  <thead>\n",
       "    <tr style=\"text-align: right;\">\n",
       "      <th></th>\n",
       "      <th>Name of School</th>\n",
       "      <th>LGA</th>\n",
       "      <th>Ownership</th>\n",
       "      <th>Type of School</th>\n",
       "      <th>Email</th>\n",
       "      <th>Phone Numbers</th>\n",
       "      <th>Link</th>\n",
       "    </tr>\n",
       "  </thead>\n",
       "  <tbody>\n",
       "    <tr>\n",
       "      <th>2095</th>\n",
       "      <td>DAMTOSE COLLEGE, Alakuko</td>\n",
       "      <td>Privately owned</td>\n",
       "      <td>Ifako/Ijaiye</td>\n",
       "      <td>Secondary</td>\n",
       "      <td>damtose-schools@yahoo.com</td>\n",
       "      <td>0802 949 2237, 0812 917 5576</td>\n",
       "      <td>=HYPERLINK(\"http://www.lagosschoolsonline.com/...</td>\n",
       "    </tr>\n",
       "    <tr>\n",
       "      <th>2096</th>\n",
       "      <td>DANMARTINS COLLEGE, Alagbado</td>\n",
       "      <td>Privately owned</td>\n",
       "      <td>Alimosho</td>\n",
       "      <td>Secondary</td>\n",
       "      <td>danmartins 43@yahoo.com, akestlabinternationa...</td>\n",
       "      <td>0802 307 8222, 0805 302 8289,  0803 070 0944</td>\n",
       "      <td>=HYPERLINK(\"http://www.lagosschoolsonline.com/...</td>\n",
       "    </tr>\n",
       "    <tr>\n",
       "      <th>2097</th>\n",
       "      <td>DANSOL HIGH SCHOOL, Ikeja</td>\n",
       "      <td>Privately owned</td>\n",
       "      <td>Ikeja</td>\n",
       "      <td>Secondary</td>\n",
       "      <td>dansolhighschool@yahoo.co.uk</td>\n",
       "      <td>0805 869 7186,  0802 932 7843,   0802 343 870...</td>\n",
       "      <td>=HYPERLINK(\"http://www.lagosschoolsonline.com/...</td>\n",
       "    </tr>\n",
       "  </tbody>\n",
       "</table>\n",
       "</div>"
      ],
      "text/plain": [
       "                    Name of School              LGA     Ownership  \\\n",
       "2095      DAMTOSE COLLEGE, Alakuko  Privately owned  Ifako/Ijaiye   \n",
       "2096  DANMARTINS COLLEGE, Alagbado  Privately owned      Alimosho   \n",
       "2097     DANSOL HIGH SCHOOL, Ikeja  Privately owned         Ikeja   \n",
       "\n",
       "     Type of School                                              Email  \\\n",
       "2095      Secondary                          damtose-schools@yahoo.com   \n",
       "2096      Secondary   danmartins 43@yahoo.com, akestlabinternationa...   \n",
       "2097      Secondary                       dansolhighschool@yahoo.co.uk   \n",
       "\n",
       "                                          Phone Numbers  \\\n",
       "2095                       0802 949 2237, 0812 917 5576   \n",
       "2096      0802 307 8222, 0805 302 8289,  0803 070 0944    \n",
       "2097   0805 869 7186,  0802 932 7843,   0802 343 870...   \n",
       "\n",
       "                                                   Link  \n",
       "2095  =HYPERLINK(\"http://www.lagosschoolsonline.com/...  \n",
       "2096  =HYPERLINK(\"http://www.lagosschoolsonline.com/...  \n",
       "2097  =HYPERLINK(\"http://www.lagosschoolsonline.com/...  "
      ]
     },
     "execution_count": 58,
     "metadata": {},
     "output_type": "execute_result"
    }
   ],
   "source": [
    "schools.tail(3)"
   ]
  },
  {
   "cell_type": "code",
   "execution_count": 59,
   "metadata": {
    "collapsed": false
   },
   "outputs": [
    {
     "data": {
      "text/html": [
       "<div>\n",
       "<table border=\"1\" class=\"dataframe\">\n",
       "  <thead>\n",
       "    <tr style=\"text-align: right;\">\n",
       "      <th></th>\n",
       "      <th>Name of School</th>\n",
       "      <th>LGA</th>\n",
       "      <th>Ownership</th>\n",
       "      <th>Type of School</th>\n",
       "      <th>Email</th>\n",
       "      <th>Phone Numbers</th>\n",
       "      <th>Link</th>\n",
       "    </tr>\n",
       "  </thead>\n",
       "  <tbody>\n",
       "    <tr>\n",
       "      <th>200</th>\n",
       "      <td>AYANGBUREN SENIOR HIGH SCHOOL</td>\n",
       "      <td>State owned</td>\n",
       "      <td>Ikorodu</td>\n",
       "      <td>Secondary</td>\n",
       "      <td>gburensnrsch@lagosschoolsonline.com</td>\n",
       "      <td>0802-327-0643</td>\n",
       "      <td>=HYPERLINK(\"http://www.lagosschoolsonline.com/...</td>\n",
       "    </tr>\n",
       "    <tr>\n",
       "      <th>201</th>\n",
       "      <td>AYEDERE AJIBOLA JUNIOR HIGH SCHOOL, Ketu</td>\n",
       "      <td>State owned</td>\n",
       "      <td>Kosofe</td>\n",
       "      <td>Secondary</td>\n",
       "      <td>ayeajijunior@lagosschoolsonline.com</td>\n",
       "      <td>0803-074 3806</td>\n",
       "      <td>=HYPERLINK(\"http://www.lagosschoolsonline.com/...</td>\n",
       "    </tr>\n",
       "    <tr>\n",
       "      <th>202</th>\n",
       "      <td>AYEDERE AJIBOLA SENIOR HIGH SCHOOL, Ketu</td>\n",
       "      <td>State owned</td>\n",
       "      <td>Kosofe</td>\n",
       "      <td>Secondary</td>\n",
       "      <td>ayederesnr@lagosschoolsonline.com</td>\n",
       "      <td>0803 373 2921</td>\n",
       "      <td>=HYPERLINK(\"http://www.lagosschoolsonline.com/...</td>\n",
       "    </tr>\n",
       "    <tr>\n",
       "      <th>203</th>\n",
       "      <td>AYO-OLUSEUN COLLEGE, Alapere</td>\n",
       "      <td>Privately owned</td>\n",
       "      <td>Kosofe</td>\n",
       "      <td>Secondary</td>\n",
       "      <td></td>\n",
       "      <td>0702 808 1787,     0802 339 9150</td>\n",
       "      <td>=HYPERLINK(\"http://www.lagosschoolsonline.com/...</td>\n",
       "    </tr>\n",
       "    <tr>\n",
       "      <th>204</th>\n",
       "      <td>AYOBAMI COLLEGE, Egan-Igando</td>\n",
       "      <td>Privately owned</td>\n",
       "      <td>Alimosho</td>\n",
       "      <td>Secondary</td>\n",
       "      <td>ayobami/pschool@yahoo.com</td>\n",
       "      <td>0802 303 5154</td>\n",
       "      <td>=HYPERLINK(\"http://www.lagosschoolsonline.com/...</td>\n",
       "    </tr>\n",
       "  </tbody>\n",
       "</table>\n",
       "</div>"
      ],
      "text/plain": [
       "                               Name of School              LGA Ownership  \\\n",
       "200             AYANGBUREN SENIOR HIGH SCHOOL      State owned   Ikorodu   \n",
       "201  AYEDERE AJIBOLA JUNIOR HIGH SCHOOL, Ketu      State owned    Kosofe   \n",
       "202  AYEDERE AJIBOLA SENIOR HIGH SCHOOL, Ketu      State owned    Kosofe   \n",
       "203              AYO-OLUSEUN COLLEGE, Alapere  Privately owned    Kosofe   \n",
       "204              AYOBAMI COLLEGE, Egan-Igando  Privately owned  Alimosho   \n",
       "\n",
       "    Type of School                                 Email  \\\n",
       "200      Secondary   gburensnrsch@lagosschoolsonline.com   \n",
       "201      Secondary   ayeajijunior@lagosschoolsonline.com   \n",
       "202      Secondary     ayederesnr@lagosschoolsonline.com   \n",
       "203      Secondary                                         \n",
       "204      Secondary             ayobami/pschool@yahoo.com   \n",
       "\n",
       "                         Phone Numbers  \\\n",
       "200                      0802-327-0643   \n",
       "201                      0803-074 3806   \n",
       "202                      0803 373 2921   \n",
       "203   0702 808 1787,     0802 339 9150   \n",
       "204                      0802 303 5154   \n",
       "\n",
       "                                                  Link  \n",
       "200  =HYPERLINK(\"http://www.lagosschoolsonline.com/...  \n",
       "201  =HYPERLINK(\"http://www.lagosschoolsonline.com/...  \n",
       "202  =HYPERLINK(\"http://www.lagosschoolsonline.com/...  \n",
       "203  =HYPERLINK(\"http://www.lagosschoolsonline.com/...  \n",
       "204  =HYPERLINK(\"http://www.lagosschoolsonline.com/...  "
      ]
     },
     "execution_count": 59,
     "metadata": {},
     "output_type": "execute_result"
    }
   ],
   "source": [
    "schools[200:205]"
   ]
  },
  {
   "cell_type": "markdown",
   "metadata": {},
   "source": [
    "### oops!  LGA and Ownership are mixed up. Let's fix that."
   ]
  },
  {
   "cell_type": "code",
   "execution_count": 75,
   "metadata": {
    "collapsed": false
   },
   "outputs": [
    {
     "data": {
      "text/plain": [
       "Index([u'Name of School', u'LGA', u'Ownership', u'Type of School', u'Email',\n",
       "       u'Phone Numbers', u'Link'],\n",
       "      dtype='object')"
      ]
     },
     "execution_count": 75,
     "metadata": {},
     "output_type": "execute_result"
    }
   ],
   "source": [
    "schools.columns"
   ]
  },
  {
   "cell_type": "code",
   "execution_count": 83,
   "metadata": {
    "collapsed": false
   },
   "outputs": [
    {
     "data": {
      "text/plain": [
       "Index([u'Name of School', u'Ownership', u'LGA', u'Type of School', u'Email',\n",
       "       u'Phone Numbers', u'Link'],\n",
       "      dtype='object')"
      ]
     },
     "execution_count": 83,
     "metadata": {},
     "output_type": "execute_result"
    }
   ],
   "source": [
    "schools.rename(columns= {'LGA':'Ownership', 'Ownership':'LGA'}, inplace=True )\n",
    "schools.columns"
   ]
  },
  {
   "cell_type": "code",
   "execution_count": 85,
   "metadata": {
    "collapsed": false
   },
   "outputs": [
    {
     "data": {
      "text/plain": [
       "0        State owned\n",
       "1    Privately owned\n",
       "2    Privately owned\n",
       "3        State owned\n",
       "4        State owned\n",
       "Name: Ownership, dtype: object"
      ]
     },
     "execution_count": 85,
     "metadata": {},
     "output_type": "execute_result"
    }
   ],
   "source": [
    "schools['Ownership'].head()"
   ]
  },
  {
   "cell_type": "code",
   "execution_count": 86,
   "metadata": {
    "collapsed": false
   },
   "outputs": [
    {
     "data": {
      "text/html": [
       "<div>\n",
       "<table border=\"1\" class=\"dataframe\">\n",
       "  <thead>\n",
       "    <tr style=\"text-align: right;\">\n",
       "      <th></th>\n",
       "      <th>LGA</th>\n",
       "      <th>Ownership</th>\n",
       "    </tr>\n",
       "  </thead>\n",
       "  <tbody>\n",
       "    <tr>\n",
       "      <th>0</th>\n",
       "      <td>Amuwo-Odofin</td>\n",
       "      <td>State owned</td>\n",
       "    </tr>\n",
       "    <tr>\n",
       "      <th>1</th>\n",
       "      <td>Agege</td>\n",
       "      <td>Privately owned</td>\n",
       "    </tr>\n",
       "    <tr>\n",
       "      <th>2</th>\n",
       "      <td>Oshodi-Isolo</td>\n",
       "      <td>Privately owned</td>\n",
       "    </tr>\n",
       "    <tr>\n",
       "      <th>3</th>\n",
       "      <td>Oshodi-Isolo</td>\n",
       "      <td>State owned</td>\n",
       "    </tr>\n",
       "    <tr>\n",
       "      <th>4</th>\n",
       "      <td>Oshodi-Isolo</td>\n",
       "      <td>State owned</td>\n",
       "    </tr>\n",
       "  </tbody>\n",
       "</table>\n",
       "</div>"
      ],
      "text/plain": [
       "            LGA        Ownership\n",
       "0  Amuwo-Odofin      State owned\n",
       "1         Agege  Privately owned\n",
       "2  Oshodi-Isolo  Privately owned\n",
       "3  Oshodi-Isolo      State owned\n",
       "4  Oshodi-Isolo      State owned"
      ]
     },
     "execution_count": 86,
     "metadata": {},
     "output_type": "execute_result"
    }
   ],
   "source": [
    "schools[['LGA', 'Ownership']].head()"
   ]
  },
  {
   "cell_type": "code",
   "execution_count": 88,
   "metadata": {
    "collapsed": false
   },
   "outputs": [
    {
     "data": {
      "text/html": [
       "<div>\n",
       "<table border=\"1\" class=\"dataframe\">\n",
       "  <thead>\n",
       "    <tr style=\"text-align: right;\">\n",
       "      <th></th>\n",
       "      <th>Name of School</th>\n",
       "      <th>Ownership</th>\n",
       "      <th>LGA</th>\n",
       "      <th>Type of School</th>\n",
       "      <th>Email</th>\n",
       "      <th>Phone Numbers</th>\n",
       "      <th>Link</th>\n",
       "    </tr>\n",
       "  </thead>\n",
       "  <tbody>\n",
       "    <tr>\n",
       "      <th>0</th>\n",
       "      <td>ALTERNATIVE HIGH SCHOOL FOR GIRLS, Agboju</td>\n",
       "      <td>State owned</td>\n",
       "      <td>Amuwo-Odofin</td>\n",
       "      <td>Secondary</td>\n",
       "      <td>altergirlssc@lagosschoolsonline.com</td>\n",
       "      <td>08037218349</td>\n",
       "      <td>=HYPERLINK(\"http://www.lagosschoolsonline.com/...</td>\n",
       "    </tr>\n",
       "    <tr>\n",
       "      <th>3</th>\n",
       "      <td>A-U-D JUNIOR COMPREHENSIVE HIGH SCHOOL</td>\n",
       "      <td>State owned</td>\n",
       "      <td>Oshodi-Isolo</td>\n",
       "      <td>Secondary</td>\n",
       "      <td>okotaaudjnr@yahoo.com</td>\n",
       "      <td>0802 033 0476</td>\n",
       "      <td>=HYPERLINK(\"http://www.lagosschoolsonline.com/...</td>\n",
       "    </tr>\n",
       "    <tr>\n",
       "      <th>4</th>\n",
       "      <td>A-U-D JUNIOR GRAMMAR SCHOOL</td>\n",
       "      <td>State owned</td>\n",
       "      <td>Oshodi-Isolo</td>\n",
       "      <td>Secondary</td>\n",
       "      <td></td>\n",
       "      <td>08023509792</td>\n",
       "      <td>=HYPERLINK(\"http://www.lagosschoolsonline.com/...</td>\n",
       "    </tr>\n",
       "  </tbody>\n",
       "</table>\n",
       "</div>"
      ],
      "text/plain": [
       "                               Name of School    Ownership           LGA  \\\n",
       "0   ALTERNATIVE HIGH SCHOOL FOR GIRLS, Agboju  State owned  Amuwo-Odofin   \n",
       "3      A-U-D JUNIOR COMPREHENSIVE HIGH SCHOOL  State owned  Oshodi-Isolo   \n",
       "4                 A-U-D JUNIOR GRAMMAR SCHOOL  State owned  Oshodi-Isolo   \n",
       "\n",
       "  Type of School                                 Email   Phone Numbers  \\\n",
       "0      Secondary   altergirlssc@lagosschoolsonline.com     08037218349   \n",
       "3      Secondary                 okotaaudjnr@yahoo.com   0802 033 0476   \n",
       "4      Secondary                                           08023509792   \n",
       "\n",
       "                                                Link  \n",
       "0  =HYPERLINK(\"http://www.lagosschoolsonline.com/...  \n",
       "3  =HYPERLINK(\"http://www.lagosschoolsonline.com/...  \n",
       "4  =HYPERLINK(\"http://www.lagosschoolsonline.com/...  "
      ]
     },
     "execution_count": 88,
     "metadata": {},
     "output_type": "execute_result"
    }
   ],
   "source": [
    "schools[(schools.Ownership == 'State owned')].head(3)"
   ]
  },
  {
   "cell_type": "code",
   "execution_count": 90,
   "metadata": {
    "collapsed": false
   },
   "outputs": [
    {
     "data": {
      "text/html": [
       "<div>\n",
       "<table border=\"1\" class=\"dataframe\">\n",
       "  <thead>\n",
       "    <tr style=\"text-align: right;\">\n",
       "      <th></th>\n",
       "      <th>Name of School</th>\n",
       "      <th>Ownership</th>\n",
       "      <th>LGA</th>\n",
       "      <th>Type of School</th>\n",
       "      <th>Email</th>\n",
       "      <th>Phone Numbers</th>\n",
       "      <th>Link</th>\n",
       "    </tr>\n",
       "  </thead>\n",
       "  <tbody>\n",
       "    <tr>\n",
       "      <th>3</th>\n",
       "      <td>A-U-D JUNIOR COMPREHENSIVE HIGH SCHOOL</td>\n",
       "      <td>State owned</td>\n",
       "      <td>Oshodi-Isolo</td>\n",
       "      <td>Secondary</td>\n",
       "      <td>okotaaudjnr@yahoo.com</td>\n",
       "      <td>0802 033 0476</td>\n",
       "      <td>=HYPERLINK(\"http://www.lagosschoolsonline.com/...</td>\n",
       "    </tr>\n",
       "    <tr>\n",
       "      <th>4</th>\n",
       "      <td>A-U-D JUNIOR GRAMMAR SCHOOL</td>\n",
       "      <td>State owned</td>\n",
       "      <td>Oshodi-Isolo</td>\n",
       "      <td>Secondary</td>\n",
       "      <td></td>\n",
       "      <td>08023509792</td>\n",
       "      <td>=HYPERLINK(\"http://www.lagosschoolsonline.com/...</td>\n",
       "    </tr>\n",
       "    <tr>\n",
       "      <th>9</th>\n",
       "      <td>A.U.D. COMPREHENSIVE JUNIOR HIGH SCHOOL</td>\n",
       "      <td>State owned</td>\n",
       "      <td>Oshodi-Isolo</td>\n",
       "      <td>Secondary</td>\n",
       "      <td>audcomp@lagosschoolsonline.com</td>\n",
       "      <td>0802 033 0476</td>\n",
       "      <td>=HYPERLINK(\"http://www.lagosschoolsonline.com/...</td>\n",
       "    </tr>\n",
       "  </tbody>\n",
       "</table>\n",
       "</div>"
      ],
      "text/plain": [
       "                            Name of School    Ownership           LGA  \\\n",
       "3   A-U-D JUNIOR COMPREHENSIVE HIGH SCHOOL  State owned  Oshodi-Isolo   \n",
       "4              A-U-D JUNIOR GRAMMAR SCHOOL  State owned  Oshodi-Isolo   \n",
       "9  A.U.D. COMPREHENSIVE JUNIOR HIGH SCHOOL  State owned  Oshodi-Isolo   \n",
       "\n",
       "  Type of School                            Email   Phone Numbers  \\\n",
       "3      Secondary            okotaaudjnr@yahoo.com   0802 033 0476   \n",
       "4      Secondary                                      08023509792   \n",
       "9      Secondary   audcomp@lagosschoolsonline.com   0802 033 0476   \n",
       "\n",
       "                                                Link  \n",
       "3  =HYPERLINK(\"http://www.lagosschoolsonline.com/...  \n",
       "4  =HYPERLINK(\"http://www.lagosschoolsonline.com/...  \n",
       "9  =HYPERLINK(\"http://www.lagosschoolsonline.com/...  "
      ]
     },
     "execution_count": 90,
     "metadata": {},
     "output_type": "execute_result"
    }
   ],
   "source": [
    "schools[(schools.Ownership == 'State owned') & (schools.LGA == 'Oshodi-Isolo')].head(3)"
   ]
  },
  {
   "cell_type": "code",
   "execution_count": 91,
   "metadata": {
    "collapsed": false
   },
   "outputs": [
    {
     "data": {
      "text/html": [
       "<div>\n",
       "<table border=\"1\" class=\"dataframe\">\n",
       "  <thead>\n",
       "    <tr style=\"text-align: right;\">\n",
       "      <th></th>\n",
       "      <th>Name of School</th>\n",
       "      <th>Ownership</th>\n",
       "      <th>LGA</th>\n",
       "      <th>Type of School</th>\n",
       "      <th>Email</th>\n",
       "      <th>Phone Numbers</th>\n",
       "      <th>Link</th>\n",
       "    </tr>\n",
       "  </thead>\n",
       "  <tbody>\n",
       "    <tr>\n",
       "      <th>0</th>\n",
       "      <td>ALTERNATIVE HIGH SCHOOL FOR GIRLS, Agboju</td>\n",
       "      <td>State owned</td>\n",
       "      <td>Amuwo-Odofin</td>\n",
       "      <td>Secondary</td>\n",
       "      <td>altergirlssc@lagosschoolsonline.com</td>\n",
       "      <td>08037218349</td>\n",
       "      <td>=HYPERLINK(\"http://www.lagosschoolsonline.com/...</td>\n",
       "    </tr>\n",
       "    <tr>\n",
       "      <th>78</th>\n",
       "      <td>AJUNMONI SENIOR SECONDARY SCHOOL, Mushin</td>\n",
       "      <td>State owned</td>\n",
       "      <td>Mushin</td>\n",
       "      <td>Secondary</td>\n",
       "      <td>ajumoni2014@lagosschoolsonline.com</td>\n",
       "      <td>0802-3166-414</td>\n",
       "      <td>=HYPERLINK(\"http://www.lagosschoolsonline.com/...</td>\n",
       "    </tr>\n",
       "    <tr>\n",
       "      <th>300</th>\n",
       "      <td>CARRINTON COLLEGE, Ajao Estate</td>\n",
       "      <td>Privately owned</td>\n",
       "      <td>Oshodi-Isolo</td>\n",
       "      <td>Secondary</td>\n",
       "      <td>archwood.school@yahoo.com</td>\n",
       "      <td>0803 305 5394, 0811 716 5698</td>\n",
       "      <td>=HYPERLINK(\"http://www.lagosschoolsonline.com/...</td>\n",
       "    </tr>\n",
       "  </tbody>\n",
       "</table>\n",
       "</div>"
      ],
      "text/plain": [
       "                                 Name of School        Ownership  \\\n",
       "0     ALTERNATIVE HIGH SCHOOL FOR GIRLS, Agboju      State owned   \n",
       "78     AJUNMONI SENIOR SECONDARY SCHOOL, Mushin      State owned   \n",
       "300              CARRINTON COLLEGE, Ajao Estate  Privately owned   \n",
       "\n",
       "              LGA Type of School                                 Email  \\\n",
       "0    Amuwo-Odofin      Secondary   altergirlssc@lagosschoolsonline.com   \n",
       "78         Mushin      Secondary    ajumoni2014@lagosschoolsonline.com   \n",
       "300  Oshodi-Isolo      Secondary             archwood.school@yahoo.com   \n",
       "\n",
       "                     Phone Numbers  \\\n",
       "0                      08037218349   \n",
       "78                   0802-3166-414   \n",
       "300   0803 305 5394, 0811 716 5698   \n",
       "\n",
       "                                                  Link  \n",
       "0    =HYPERLINK(\"http://www.lagosschoolsonline.com/...  \n",
       "78   =HYPERLINK(\"http://www.lagosschoolsonline.com/...  \n",
       "300  =HYPERLINK(\"http://www.lagosschoolsonline.com/...  "
      ]
     },
     "execution_count": 91,
     "metadata": {},
     "output_type": "execute_result"
    }
   ],
   "source": [
    "schools.iloc[[0, 78, 300]]"
   ]
  },
  {
   "cell_type": "code",
   "execution_count": 93,
   "metadata": {
    "collapsed": false
   },
   "outputs": [
    {
     "data": {
      "text/html": [
       "<div>\n",
       "<table border=\"1\" class=\"dataframe\">\n",
       "  <thead>\n",
       "    <tr style=\"text-align: right;\">\n",
       "      <th></th>\n",
       "      <th>Name of School</th>\n",
       "      <th>Ownership</th>\n",
       "      <th>Type of School</th>\n",
       "      <th>Email</th>\n",
       "      <th>Phone Numbers</th>\n",
       "      <th>Link</th>\n",
       "    </tr>\n",
       "    <tr>\n",
       "      <th>LGA</th>\n",
       "      <th></th>\n",
       "      <th></th>\n",
       "      <th></th>\n",
       "      <th></th>\n",
       "      <th></th>\n",
       "      <th></th>\n",
       "    </tr>\n",
       "  </thead>\n",
       "  <tbody>\n",
       "    <tr>\n",
       "      <th>Badagry</th>\n",
       "      <td>71</td>\n",
       "      <td>71</td>\n",
       "      <td>71</td>\n",
       "      <td>71</td>\n",
       "      <td>71</td>\n",
       "      <td>71</td>\n",
       "    </tr>\n",
       "    <tr>\n",
       "      <th>Ibeju-Lekki</th>\n",
       "      <td>34</td>\n",
       "      <td>34</td>\n",
       "      <td>34</td>\n",
       "      <td>34</td>\n",
       "      <td>34</td>\n",
       "      <td>34</td>\n",
       "    </tr>\n",
       "    <tr>\n",
       "      <th>Ikeja</th>\n",
       "      <td>71</td>\n",
       "      <td>71</td>\n",
       "      <td>71</td>\n",
       "      <td>71</td>\n",
       "      <td>71</td>\n",
       "      <td>71</td>\n",
       "    </tr>\n",
       "    <tr>\n",
       "      <th>Mushin</th>\n",
       "      <td>86</td>\n",
       "      <td>86</td>\n",
       "      <td>86</td>\n",
       "      <td>86</td>\n",
       "      <td>86</td>\n",
       "      <td>86</td>\n",
       "    </tr>\n",
       "    <tr>\n",
       "      <th>Shomolu</th>\n",
       "      <td>53</td>\n",
       "      <td>53</td>\n",
       "      <td>53</td>\n",
       "      <td>53</td>\n",
       "      <td>53</td>\n",
       "      <td>53</td>\n",
       "    </tr>\n",
       "  </tbody>\n",
       "</table>\n",
       "</div>"
      ],
      "text/plain": [
       "              Name of School  Ownership  Type of School  Email  Phone Numbers  \\\n",
       "LGA                                                                             \n",
       " Badagry                  71         71              71     71             71   \n",
       " Ibeju-Lekki              34         34              34     34             34   \n",
       " Ikeja                    71         71              71     71             71   \n",
       " Mushin                   86         86              86     86             86   \n",
       " Shomolu                  53         53              53     53             53   \n",
       "\n",
       "              Link  \n",
       "LGA                 \n",
       " Badagry        71  \n",
       " Ibeju-Lekki    34  \n",
       " Ikeja          71  \n",
       " Mushin         86  \n",
       " Shomolu        53  "
      ]
     },
     "execution_count": 93,
     "metadata": {},
     "output_type": "execute_result"
    }
   ],
   "source": [
    "schools.groupby('LGA').count().head()"
   ]
  },
  {
   "cell_type": "code",
   "execution_count": 94,
   "metadata": {
    "collapsed": false
   },
   "outputs": [
    {
     "data": {
      "text/plain": [
       "LGA\n",
       "Mushin            6\n",
       "Ojo             156\n",
       "Oshodi-Isolo    157\n",
       "Ownership         1\n",
       "Surulere        145\n",
       "dtype: int64"
      ]
     },
     "execution_count": 94,
     "metadata": {},
     "output_type": "execute_result"
    }
   ],
   "source": [
    "schools.groupby('LGA').size().tail()"
   ]
  },
  {
   "cell_type": "markdown",
   "metadata": {},
   "source": [
    "## End For now"
   ]
  },
  {
   "cell_type": "markdown",
   "metadata": {},
   "source": [
    "## Reference\n",
    "\n",
    "1. [Greg Reda's blog](http://www.gregreda.com/2013/10/26/working-with-pandas-dataframes/)"
   ]
  }
 ],
 "metadata": {
  "kernelspec": {
   "display_name": "Python [default]",
   "language": "python",
   "name": "python2"
  },
  "language_info": {
   "codemirror_mode": {
    "name": "ipython",
    "version": 2
   },
   "file_extension": ".py",
   "mimetype": "text/x-python",
   "name": "python",
   "nbconvert_exporter": "python",
   "pygments_lexer": "ipython2",
   "version": "2.7.12"
  }
 },
 "nbformat": 4,
 "nbformat_minor": 2
}
